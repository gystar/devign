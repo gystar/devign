{
 "cells": [
  {
   "cell_type": "code",
   "execution_count": null,
   "metadata": {},
   "outputs": [],
   "source": [
    "# 环境安装\n",
    "# 1.安装并激活python环境, 已经验证的版本是3.7.2\n",
    "!python --version \n",
    "!conda create -m devign python==3.7.2 #此命令不要重复执行，成功后可注释掉\n",
    "!conda activate devign    \n",
    "# 2.根据当前机器的情况安装torch、torch-geometric、torch-sparse 和 torch-scatter\n",
    "#   具体安装方法参考 https://pytorch.org/get-started/locally/\n",
    "# 3.安装当前试验所依赖的python包\n",
    "!pip instlall -r requirements.txt"
   ]
  },
  {
   "cell_type": "code",
   "execution_count": null,
   "metadata": {},
   "outputs": [],
   "source": [
    "# 原始的代码数据集存放在 data/raw (Paths.raw)中\n",
    "# 每一条数据包含：\n",
    "# project名，commit_id，target（是否为漏洞代码），func（函数代码文本）\n",
    "# 我们探索一下原始数据的构成\n",
    "import json\n",
    "with open(\"data/raw/dataset.json\") as f:\n",
    "    origin_data = json.loads(f.readlines()[0])\n",
    "\n",
    "print(\"dataset size:\",len(origin_data))\n",
    "print(\"==========data 0=============\")\n",
    "for k in origin_data[0]:\n",
    "    print(k,\":\\n\",  origin_data[0][k])"
   ]
  },
  {
   "cell_type": "code",
   "execution_count": null,
   "metadata": {},
   "outputs": [],
   "source": [
    "# 并使用joern工具将代码数据转化为CPG图\n",
    "# 生成过程比较慢而且需要安装环境，在此省略\n",
    "# 感兴趣的同学可以了解一下joern： https://docs.joern.io/home\n",
    "# 生成的代码图数据存放在data/cpg (Paths.cpg)中，其中每100条数据写入一个pkl文件\n",
    "# 代码图数据预览"
   ]
  },
  {
   "cell_type": "code",
   "execution_count": null,
   "metadata": {},
   "outputs": [],
   "source": [
    "# 训练用于编码节点中文本的word2vec模型，并对节点的文本进行编码\n",
    "from main import main\n",
    "main.embed_task()"
   ]
  },
  {
   "cell_type": "code",
   "execution_count": null,
   "metadata": {},
   "outputs": [],
   "source": [
    "# 模型训练和验证\n",
    "main.process_task()"
   ]
  }
 ],
 "metadata": {
  "kernelspec": {
   "display_name": "Python 3.6.0 ('devign')",
   "language": "python",
   "name": "python3"
  },
  "language_info": {
   "codemirror_mode": {
    "name": "ipython",
    "version": 3
   },
   "file_extension": ".py",
   "mimetype": "text/x-python",
   "name": "python",
   "nbconvert_exporter": "python",
   "pygments_lexer": "ipython3",
   "version": "3.7.2"
  },
  "orig_nbformat": 4,
  "vscode": {
   "interpreter": {
    "hash": "fe92802436f3b6fdcf13a5e1be3c70c9006e1b2a17e4adb5b5980b4305bb4040"
   }
  }
 },
 "nbformat": 4,
 "nbformat_minor": 2
}
