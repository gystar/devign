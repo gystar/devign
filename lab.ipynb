{
 "cells": [
  {
   "cell_type": "code",
   "execution_count": null,
   "metadata": {},
   "outputs": [],
   "source": [
    "# 环境安装\n",
    "# 1.安装并激活python环境, 已经验证的版本是3.7.2\n",
    "!python --version \n",
    "!conda create -m devign python==3.7.2 #此命令不要重复执行，成功后可注释掉\n",
    "!conda activate devign    \n",
    "# 2.根据当前机器的情况安装torch、torch-geometric、torch-sparse 和 torch-scatter\n",
    "#   具体安装方法参考 https://pytorch.org/get-started/locally/\n",
    "# 3.安装当前试验所依赖的python包\n",
    "!pip instlall -r requirements.txt"
   ]
  },
  {
   "cell_type": "code",
   "execution_count": 2,
   "metadata": {},
   "outputs": [
    {
     "data": {
      "text/html": [
       "<div>\n",
       "<style scoped>\n",
       "    .dataframe tbody tr th:only-of-type {\n",
       "        vertical-align: middle;\n",
       "    }\n",
       "\n",
       "    .dataframe tbody tr th {\n",
       "        vertical-align: top;\n",
       "    }\n",
       "\n",
       "    .dataframe thead th {\n",
       "        text-align: right;\n",
       "    }\n",
       "</style>\n",
       "<table border=\"1\" class=\"dataframe\">\n",
       "  <thead>\n",
       "    <tr style=\"text-align: right;\">\n",
       "      <th></th>\n",
       "      <th>project</th>\n",
       "      <th>commit_id</th>\n",
       "      <th>target</th>\n",
       "      <th>func</th>\n",
       "    </tr>\n",
       "  </thead>\n",
       "  <tbody>\n",
       "    <tr>\n",
       "      <th>0</th>\n",
       "      <td>FFmpeg</td>\n",
       "      <td>973b1a6b9070e2bf17d17568cbaf4043ce931f51</td>\n",
       "      <td>0</td>\n",
       "      <td>static av_cold int vdadec_init(AVCodecContext ...</td>\n",
       "    </tr>\n",
       "    <tr>\n",
       "      <th>1</th>\n",
       "      <td>FFmpeg</td>\n",
       "      <td>321b2a9ded0468670b7678b7c098886930ae16b2</td>\n",
       "      <td>0</td>\n",
       "      <td>static int transcode(AVFormatContext **output_...</td>\n",
       "    </tr>\n",
       "    <tr>\n",
       "      <th>2</th>\n",
       "      <td>FFmpeg</td>\n",
       "      <td>5d5de3eba4c7890c2e8077f5b4ae569671d11cf8</td>\n",
       "      <td>0</td>\n",
       "      <td>static void v4l2_free_buffer(void *opaque, uin...</td>\n",
       "    </tr>\n",
       "    <tr>\n",
       "      <th>3</th>\n",
       "      <td>FFmpeg</td>\n",
       "      <td>32bf6550cb9cc9f487a6722fe2bfc272a93c1065</td>\n",
       "      <td>0</td>\n",
       "      <td>int ff_get_wav_header(AVFormatContext *s, AVIO...</td>\n",
       "    </tr>\n",
       "    <tr>\n",
       "      <th>4</th>\n",
       "      <td>FFmpeg</td>\n",
       "      <td>57d77b3963ce1023eaf5ada8cba58b9379405cc8</td>\n",
       "      <td>0</td>\n",
       "      <td>int av_opencl_buffer_write(cl_mem dst_cl_buf, ...</td>\n",
       "    </tr>\n",
       "  </tbody>\n",
       "</table>\n",
       "</div>"
      ],
      "text/plain": [
       "  project                                 commit_id  target  \\\n",
       "0  FFmpeg  973b1a6b9070e2bf17d17568cbaf4043ce931f51       0   \n",
       "1  FFmpeg  321b2a9ded0468670b7678b7c098886930ae16b2       0   \n",
       "2  FFmpeg  5d5de3eba4c7890c2e8077f5b4ae569671d11cf8       0   \n",
       "3  FFmpeg  32bf6550cb9cc9f487a6722fe2bfc272a93c1065       0   \n",
       "4  FFmpeg  57d77b3963ce1023eaf5ada8cba58b9379405cc8       0   \n",
       "\n",
       "                                                func  \n",
       "0  static av_cold int vdadec_init(AVCodecContext ...  \n",
       "1  static int transcode(AVFormatContext **output_...  \n",
       "2  static void v4l2_free_buffer(void *opaque, uin...  \n",
       "3  int ff_get_wav_header(AVFormatContext *s, AVIO...  \n",
       "4  int av_opencl_buffer_write(cl_mem dst_cl_buf, ...  "
      ]
     },
     "execution_count": 2,
     "metadata": {},
     "output_type": "execute_result"
    }
   ],
   "source": [
    "# 原始的代码数据集存放在 data/raw (Paths.raw)中\n",
    "# 每一条数据包含：\n",
    "# project名，commit_id，target（是否为漏洞代码），func（函数代码文本）\n",
    "# 我们探索一下原始数据的构成\n",
    "import pandas as pd\n",
    "dataset = pd.read_json(\"data/raw/dataset.json\")\n",
    "dataset.head(5)"
   ]
  },
  {
   "cell_type": "code",
   "execution_count": 3,
   "metadata": {},
   "outputs": [
    {
     "name": "stdout",
     "output_type": "stream",
     "text": [
      "                                           functions\n",
      "0  {'function': 'libopus_write_header', 'file': '...\n",
      "1  {'function': '<operator>.modulo', 'file': 'N/A...\n",
      "2  {'function': 'av_frame_free', 'file': 'N/A', '...\n",
      "3  {'function': 'th_encode_free', 'file': 'N/A', ...\n",
      "4  {'function': 'put_buffer', 'file': 'N/A', 'id'...\n",
      "cpg 0:\n",
      "function, file, id, AST, CFG, PDG, \n",
      "\n"
     ]
    }
   ],
   "source": [
    "# 并使用joern工具将代码数据转化为CPG图\n",
    "# 生成过程比较慢而且需要安装环境，在此省略\n",
    "# 感兴趣的同学可以了解一下joern： https://docs.joern.io/home\n",
    "# 生成的代码图数据存放在data/cpg (Paths.cpg)中，其中每100条数据写入一个文件\n",
    "# 代码图数据预览\n",
    "cpg_data_0 = pd.read_json(\"data/cpg/0_cpg.json\")\n",
    "print(cpg_data_0.head())\n",
    "print(\"cpg 0:\")\n",
    "for k in cpg_data_0.iloc[0].functions:\n",
    "    print(k, end=\", \")\n",
    "print(\"\\n\")\n",
    "#print(cpg_data_0.iloc[0].functions[\"AST\"])\n",
    "#TODO 画出这个CPG图"
   ]
  },
  {
   "cell_type": "code",
   "execution_count": null,
   "metadata": {},
   "outputs": [],
   "source": [
    "# 训练用于编码节点中文本的word2vec模型，并对节点的文本进行编码\n",
    "from main import main\n",
    "main.embed_task()"
   ]
  },
  {
   "cell_type": "code",
   "execution_count": null,
   "metadata": {},
   "outputs": [],
   "source": [
    "# 模型训练和验证\n",
    "main.process_task()"
   ]
  },
  {
   "cell_type": "markdown",
   "metadata": {},
   "source": [
    "## 挑战1：完成环境配置，可以进行模型的训练和验证\n",
    "## 挑战2：调整config.json中的配置，使模型的ACC达到70%\n",
    "## 挑战3：原试验中代码图只使用了AST边的信息，尝试加入CFG、DFG、PDG等图的边信息，提高模型的准确率。\n",
    "## 挑战4：实现一个Readout层，替代原来的Conv层\n",
    "## 挑战5：embedding"
   ]
  }
 ],
 "metadata": {
  "kernelspec": {
   "display_name": "Python 3.6.0 ('devign')",
   "language": "python",
   "name": "python3"
  },
  "language_info": {
   "codemirror_mode": {
    "name": "ipython",
    "version": 3
   },
   "file_extension": ".py",
   "mimetype": "text/x-python",
   "name": "python",
   "nbconvert_exporter": "python",
   "pygments_lexer": "ipython3",
   "version": "3.7.2"
  },
  "orig_nbformat": 4,
  "vscode": {
   "interpreter": {
    "hash": "fe92802436f3b6fdcf13a5e1be3c70c9006e1b2a17e4adb5b5980b4305bb4040"
   }
  }
 },
 "nbformat": 4,
 "nbformat_minor": 2
}
